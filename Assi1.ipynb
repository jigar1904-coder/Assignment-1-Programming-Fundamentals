{
 "cells": [
  {
   "cell_type": "markdown",
   "id": "54690b5c-e4fe-479e-8919-db2a68255ac0",
   "metadata": {},
   "source": [
    "# Assignment-1 : 27-08-2025"
   ]
  },
  {
   "cell_type": "markdown",
   "id": "b1ddeffb-cfb9-440d-affd-db8fa4e95828",
   "metadata": {},
   "source": [
    "**JIGARKUMAR RAKESHKUMAR VALAND**"
   ]
  },
  {
   "cell_type": "markdown",
   "id": "ccc80ae6-de04-45fe-afc8-29478214c3dd",
   "metadata": {},
   "source": [
    "- python\n",
    "- C++\n",
    "- JAVA\n",
    "- C"
   ]
  },
  {
   "cell_type": "markdown",
   "id": "36cf54ee-5a89-4149-acc4-f3e52dae8294",
   "metadata": {},
   "source": [
    "| **Intermediate Devices** | **End Devices**          | **Media**  |\n",
    "|--------------------------|--------------------------|------------|\n",
    "|Switch                    | Laptop                   | Cable      |\n",
    "|Switch                    | Refrigerator             | Electricity|"
   ]
  },
  {
   "cell_type": "code",
   "execution_count": 13,
   "id": "8cbfde96-135e-4a29-b70b-99685ff3690f",
   "metadata": {},
   "outputs": [
    {
     "name": "stdout",
     "output_type": "stream",
     "text": [
      "My Name is JIGARKUMAR RAKESHKUMAR VALAND \n"
     ]
    }
   ],
   "source": [
    "print(\"My Name is JIGARKUMAR RAKESHKUMAR VALAND \")"
   ]
  },
  {
   "cell_type": "code",
   "execution_count": 14,
   "id": "2cc984f7-bc11-4281-91fb-ad79ec3d393e",
   "metadata": {},
   "outputs": [
    {
     "name": "stdin",
     "output_type": "stream",
     "text": [
      " JIGARKUMAR RAKESHKUMAR VALAND\n"
     ]
    },
    {
     "name": "stdout",
     "output_type": "stream",
     "text": [
      "Hello JIGARKUMAR RAKESHKUMAR VALAND\n"
     ]
    }
   ],
   "source": [
    "name = input()\n",
    "print(\"Hello\",name)"
   ]
  },
  {
   "cell_type": "code",
   "execution_count": 15,
   "id": "7f453134-e0f2-45b7-8507-97417dbbe955",
   "metadata": {},
   "outputs": [
    {
     "name": "stdin",
     "output_type": "stream",
     "text": [
      " 1925\n",
      " 1917\n"
     ]
    },
    {
     "name": "stdout",
     "output_type": "stream",
     "text": [
      "3842\n"
     ]
    }
   ],
   "source": [
    "a = int(input())\n",
    "b = int(input())\n",
    "print(a+b)"
   ]
  },
  {
   "cell_type": "code",
   "execution_count": null,
   "id": "a8748232-30eb-42f9-9383-3897f322dafa",
   "metadata": {},
   "outputs": [],
   "source": []
  }
 ],
 "metadata": {
  "kernelspec": {
   "display_name": "Python 3 (ipykernel)",
   "language": "python",
   "name": "python3"
  },
  "language_info": {
   "codemirror_mode": {
    "name": "ipython",
    "version": 3
   },
   "file_extension": ".py",
   "mimetype": "text/x-python",
   "name": "python",
   "nbconvert_exporter": "python",
   "pygments_lexer": "ipython3",
   "version": "3.13.5"
  }
 },
 "nbformat": 4,
 "nbformat_minor": 5
}
